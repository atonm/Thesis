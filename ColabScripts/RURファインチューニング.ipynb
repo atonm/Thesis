{
  "nbformat": 4,
  "nbformat_minor": 0,
  "metadata": {
    "colab": {
      "provenance": []
    },
    "kernelspec": {
      "name": "python3",
      "display_name": "Python 3"
    },
    "language_info": {
      "name": "python"
    }
  },
  "cells": [
    {
      "cell_type": "code",
      "execution_count": null,
      "metadata": {
        "id": "9PZ4G2mB4IOb"
      },
      "outputs": [],
      "source": [
        "import openai\n",
        "openai.api_key = \"YOUR_API_KEY\"\n",
        "\n",
        "openai.File.create(   #ファイルのアップロード\n",
        "    file = open(\"rur_1.jsonl\",\"rb\"),\n",
        "    purpose = \"fine_tune\"\n",
        ")"
      ]
    },
    {
      "cell_type": "code",
      "source": [
        "openai.FineTuningJob.create(    #ファインチューニングの実行\n",
        "    training_file=\"file-adcd1234\",    #アップロードしたファイルのID\n",
        "    model=\"gpt-3.5-turbo\"\n",
        ")"
      ],
      "metadata": {
        "id": "DErmF-gX5oOB"
      },
      "execution_count": null,
      "outputs": []
    },
    {
      "cell_type": "code",
      "source": [
        "#openai.FineTuningJob.list(limit=10)   #タスクの状態確認"
      ],
      "metadata": {
        "id": "vKbXvfW-biNn"
      },
      "execution_count": null,
      "outputs": []
    },
    {
      "cell_type": "markdown",
      "source": [
        "実行"
      ],
      "metadata": {
        "id": "adMEuNQObsDp"
      }
    },
    {
      "cell_type": "code",
      "source": [
        "completion = openai.ChatCompletion.create(    #langchainなしで実行\n",
        "  model=\"ft:gpt-3.5-turbo:my-org:custom_suffix:id\",\n",
        "  messages=[\n",
        "    {\"role\": \"system\", \"content\": \"<システムプロンプト>\"},#データセットに入れたのと同じもの\n",
        "    {\"role\": \"user\", \"content\": \"<ユーザープロンプト>\"}#好きなプロンプト\n",
        "  ]\n",
        ")\n",
        "\n",
        "print(completion.choices[0].message)"
      ],
      "metadata": {
        "id": "PyiuQOzbcIGE"
      },
      "execution_count": null,
      "outputs": []
    }
  ]
}